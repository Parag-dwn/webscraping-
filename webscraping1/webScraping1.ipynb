{
 "cells": [
  {
   "cell_type": "markdown",
   "id": "d35f3c53",
   "metadata": {},
   "source": [
    "## Webscraping Assignment:"
   ]
  },
  {
   "cell_type": "code",
   "execution_count": 17,
   "id": "a824fbcd",
   "metadata": {},
   "outputs": [
    {
     "name": "stdout",
     "output_type": "stream",
     "text": [
      "Requirement already satisfied: selenium in c:\\users\\lenovo\\anaconda3\\lib\\site-packages (4.6.0)Note: you may need to restart the kernel to use updated packages.\n",
      "\n",
      "Requirement already satisfied: urllib3[socks]~=1.26 in c:\\users\\lenovo\\anaconda3\\lib\\site-packages (from selenium) (1.26.11)\n",
      "Requirement already satisfied: certifi>=2021.10.8 in c:\\users\\lenovo\\anaconda3\\lib\\site-packages (from selenium) (2022.9.14)\n",
      "Requirement already satisfied: trio-websocket~=0.9 in c:\\users\\lenovo\\anaconda3\\lib\\site-packages (from selenium) (0.9.2)\n",
      "Requirement already satisfied: trio~=0.17 in c:\\users\\lenovo\\anaconda3\\lib\\site-packages (from selenium) (0.22.0)\n",
      "Requirement already satisfied: idna in c:\\users\\lenovo\\anaconda3\\lib\\site-packages (from trio~=0.17->selenium) (3.3)\n",
      "Requirement already satisfied: sniffio in c:\\users\\lenovo\\anaconda3\\lib\\site-packages (from trio~=0.17->selenium) (1.2.0)\n",
      "Requirement already satisfied: sortedcontainers in c:\\users\\lenovo\\anaconda3\\lib\\site-packages (from trio~=0.17->selenium) (2.4.0)\n",
      "Requirement already satisfied: exceptiongroup>=1.0.0rc9 in c:\\users\\lenovo\\anaconda3\\lib\\site-packages (from trio~=0.17->selenium) (1.0.4)\n",
      "Requirement already satisfied: outcome in c:\\users\\lenovo\\anaconda3\\lib\\site-packages (from trio~=0.17->selenium) (1.2.0)\n",
      "Requirement already satisfied: async-generator>=1.9 in c:\\users\\lenovo\\anaconda3\\lib\\site-packages (from trio~=0.17->selenium) (1.10)\n",
      "Requirement already satisfied: cffi>=1.14 in c:\\users\\lenovo\\anaconda3\\lib\\site-packages (from trio~=0.17->selenium) (1.15.1)\n",
      "Requirement already satisfied: attrs>=19.2.0 in c:\\users\\lenovo\\anaconda3\\lib\\site-packages (from trio~=0.17->selenium) (21.4.0)\n",
      "Requirement already satisfied: wsproto>=0.14 in c:\\users\\lenovo\\anaconda3\\lib\\site-packages (from trio-websocket~=0.9->selenium) (1.2.0)\n",
      "Requirement already satisfied: PySocks!=1.5.7,<2.0,>=1.5.6 in c:\\users\\lenovo\\anaconda3\\lib\\site-packages (from urllib3[socks]~=1.26->selenium) (1.7.1)\n",
      "Requirement already satisfied: pycparser in c:\\users\\lenovo\\anaconda3\\lib\\site-packages (from cffi>=1.14->trio~=0.17->selenium) (2.21)\n",
      "Requirement already satisfied: h11<1,>=0.9.0 in c:\\users\\lenovo\\anaconda3\\lib\\site-packages (from wsproto>=0.14->trio-websocket~=0.9->selenium) (0.14.0)\n"
     ]
    }
   ],
   "source": [
    "pip install selenium"
   ]
  },
  {
   "cell_type": "code",
   "execution_count": 19,
   "id": "31cb411e",
   "metadata": {},
   "outputs": [
    {
     "name": "stdout",
     "output_type": "stream",
     "text": [
      "Requirement already satisfied: beautifulsoup4 in c:\\users\\lenovo\\anaconda3\\lib\\site-packages (4.11.1)\n",
      "Requirement already satisfied: soupsieve>1.2 in c:\\users\\lenovo\\anaconda3\\lib\\site-packages (from beautifulsoup4) (2.3.1)\n",
      "Note: you may need to restart the kernel to use updated packages.\n"
     ]
    }
   ],
   "source": [
    "pip install beautifulsoup4"
   ]
  },
  {
   "cell_type": "code",
   "execution_count": 20,
   "id": "654bd085",
   "metadata": {},
   "outputs": [
    {
     "name": "stdout",
     "output_type": "stream",
     "text": [
      "Requirement already satisfied: webdriver_manager in c:\\users\\lenovo\\anaconda3\\lib\\site-packages (3.8.5)\n",
      "Requirement already satisfied: packaging in c:\\users\\lenovo\\anaconda3\\lib\\site-packages (from webdriver_manager) (21.3)\n",
      "Requirement already satisfied: python-dotenv in c:\\users\\lenovo\\anaconda3\\lib\\site-packages (from webdriver_manager) (0.21.0)\n",
      "Requirement already satisfied: requests in c:\\users\\lenovo\\anaconda3\\lib\\site-packages (from webdriver_manager) (2.28.1)\n",
      "Requirement already satisfied: tqdm in c:\\users\\lenovo\\anaconda3\\lib\\site-packages (from webdriver_manager) (4.64.1)\n",
      "Requirement already satisfied: pyparsing!=3.0.5,>=2.0.2 in c:\\users\\lenovo\\anaconda3\\lib\\site-packages (from packaging->webdriver_manager) (3.0.9)\n",
      "Requirement already satisfied: idna<4,>=2.5 in c:\\users\\lenovo\\anaconda3\\lib\\site-packages (from requests->webdriver_manager) (3.3)\n",
      "Requirement already satisfied: charset-normalizer<3,>=2 in c:\\users\\lenovo\\anaconda3\\lib\\site-packages (from requests->webdriver_manager) (2.0.4)\n",
      "Requirement already satisfied: urllib3<1.27,>=1.21.1 in c:\\users\\lenovo\\anaconda3\\lib\\site-packages (from requests->webdriver_manager) (1.26.11)\n",
      "Requirement already satisfied: certifi>=2017.4.17 in c:\\users\\lenovo\\anaconda3\\lib\\site-packages (from requests->webdriver_manager) (2022.9.14)\n",
      "Requirement already satisfied: colorama in c:\\users\\lenovo\\anaconda3\\lib\\site-packages (from tqdm->webdriver_manager) (0.4.5)\n",
      "Note: you may need to restart the kernel to use updated packages.\n"
     ]
    }
   ],
   "source": [
    "pip install webdriver_manager"
   ]
  },
  {
   "cell_type": "code",
   "execution_count": 80,
   "id": "0bb22736",
   "metadata": {},
   "outputs": [],
   "source": [
    "from selenium import webdriver\n",
    "from selenium.webdriver.chrome.service import Service\n",
    "from selenium.webdriver.support.ui import WebDriverWait\n",
    "from selenium.webdriver.support import expected_conditions as EC\n",
    "from bs4 import BeautifulSoup\n",
    "import codecs\n",
    "import re\n",
    "import pandas as pd\n",
    "from webdriver_manager.chrome import ChromeDriverManager\n",
    "import json\n",
    "url='https://collegedunia.com/usa/college/1090-harvard-university-cambridge'"
   ]
  },
  {
   "cell_type": "code",
   "execution_count": 81,
   "id": "76448707",
   "metadata": {},
   "outputs": [],
   "source": [
    "from selenium import webdriver\n",
    "from selenium.webdriver.chrome.options import Options\n",
    "from webdriver_manager.chrome import ChromeDriverManager\n"
   ]
  },
  {
   "cell_type": "code",
   "execution_count": 82,
   "id": "5ac970a2",
   "metadata": {},
   "outputs": [],
   "source": [
    "driver=webdriver.Chrome(service=Service(ChromeDriverManager().install()))"
   ]
  },
  {
   "cell_type": "code",
   "execution_count": 83,
   "id": "9da3e314",
   "metadata": {},
   "outputs": [],
   "source": [
    "DRIVER_PATH =r\"C:\\Users\\lenovo\\anaconda3\\Lib\\site-packages\\selenium\\webdriver\""
   ]
  },
  {
   "cell_type": "code",
   "execution_count": 84,
   "id": "30b69047",
   "metadata": {},
   "outputs": [],
   "source": [
    "wait=WebDriverWait(driver,10)\n",
    "driver.get(url)\n",
    "get_url=driver.current_url\n",
    "wait.until(EC.url_to_be(url))\n",
    "if get_url==url:\n",
    "    page_source=driver.page_source"
   ]
  },
  {
   "cell_type": "code",
   "execution_count": 85,
   "id": "f8224362",
   "metadata": {},
   "outputs": [
    {
     "data": {
      "text/plain": [
       "bs4.BeautifulSoup"
      ]
     },
     "execution_count": 85,
     "metadata": {},
     "output_type": "execute_result"
    }
   ],
   "source": [
    "soup=BeautifulSoup(page_source,features=\"html.parser\")\n",
    "type(soup)"
   ]
  },
  {
   "cell_type": "code",
   "execution_count": 86,
   "id": "e7c3bbc0",
   "metadata": {},
   "outputs": [],
   "source": [
    "matches=soup.body.find_all('div',attrs={'class':\"jsx-2735629048 jsx-1131402644 card-body\"})"
   ]
  },
  {
   "cell_type": "code",
   "execution_count": 87,
   "id": "c5a0247f",
   "metadata": {},
   "outputs": [
    {
     "name": "stdout",
     "output_type": "stream",
     "text": [
      "None\n",
      "['table', 'table-striped', 'style_table', 'table-responsive']\n",
      "['table', 'table-striped', 'style_table', 'table-responsive']\n",
      "['table', 'table-striped', 'style_table']\n",
      "['table', 'table-striped', 'style_table']\n",
      "['table', 'table-striped', 'style_table', 'table-responsive']\n",
      "['table', 'table-striped', 'style_table']\n",
      "['table', 'table-striped', 'style_table', 'table-responsive']\n",
      "['table', 'table-striped', 'style_table', 'table-responsive']\n",
      "['jsx-4276038191', 'table-common']\n",
      "['jsx-1223167980', 'table', 'text-left']\n",
      "['jsx-2098514184', 'table-common', 'table', 'm-0', 'table-no-row-border']\n",
      "['jsx-3389133654', 'table', 'mb-0', 'table-no-row-border', 'table-no-heading-border']\n"
     ]
    }
   ],
   "source": [
    "for table in soup.find_all('table'):\n",
    "    print(table.get('class'))"
   ]
  },
  {
   "cell_type": "markdown",
   "id": "5982dfd8",
   "metadata": {},
   "source": [
    "### Scraping Part 1: Course Details from Table"
   ]
  },
  {
   "cell_type": "code",
   "execution_count": 88,
   "id": "6810a2eb",
   "metadata": {},
   "outputs": [],
   "source": [
    "tables=soup.find_all('table')\n",
    "table=soup.find('table',class_='jsx-4276038191 table-common')"
   ]
  },
  {
   "cell_type": "code",
   "execution_count": 89,
   "id": "19094fbd",
   "metadata": {},
   "outputs": [
    {
     "data": {
      "text/plain": [
       "<table class=\"jsx-4276038191 table-common\"><colgroup class=\"jsx-4276038191\"><col class=\"jsx-4276038191\" span=\"1\" style=\"width:15%\"/><col class=\"jsx-4276038191\" span=\"1\" style=\"width:55%;\"/><col class=\"jsx-4276038191\" span=\"1\" style=\"width:30%\"/></colgroup><thead class=\"jsx-4276038191\"><th class=\"jsx-4276038191\">Program</th><th class=\"jsx-4276038191\">Application Deadline</th><th class=\"jsx-4276038191\">Fees</th></thead><tbody class=\"jsx-4276038191\"><tr class=\"jsx-4276038191\"><td class=\"jsx-4276038191\"><a class=\"jsx-4276038191\" href=\"https://collegedunia.com/usa/college/1090-harvard-university-cambridge/programs?course_id=179786\" target=\"_blank\">M.B.A</a></td><td class=\"jsx-4276038191\"><div class=\"jsx-4276038191 mb-1\"><span class=\"jsx-4276038191 text-capitalize\"> <!-- -->Financial Aid Application Deadline For Summer<!-- --> </span> (1st Jun 2023) </div><div class=\"jsx-4276038191 mb-1\"><span class=\"jsx-4276038191 text-capitalize\"> <!-- -->Financial Aid Application Deadline For Spring<!-- --> </span> (1st Mar 2023) </div><div class=\"jsx-4276038191 mb-1\"><span class=\"jsx-4276038191 text-capitalize\"> <!-- -->Financial Aid Application Deadline For Fall<!-- --> </span> (1st Nov 2022) </div><div class=\"jsx-4276038191 mb-1\"><span class=\"jsx-4276038191 text-capitalize\"> <!-- -->Application Deadline For Summer 2023 Intake<!-- --> </span> (1st Aug 2023) </div><div class=\"jsx-4276038191 mb-1\"><span class=\"jsx-4276038191 text-capitalize\"> <!-- -->Application Deadline For Spring 2023 Intake<!-- --> </span> (15th Apr 2023) </div><div class=\"jsx-4276038191 mb-1\"><span class=\"jsx-4276038191 text-capitalize\"> <!-- -->Application Deadline For Fall 2023<!-- --> </span> (1st Dec 2022) </div></td><td class=\"jsx-4276038191\">₹66.2 L/Yr<div class=\"jsx-4276038191 text-secondary text-sm mt-1 text-silver\">$81,374 /Yr</div></td></tr><tr class=\"jsx-4276038191\"><td class=\"jsx-4276038191\"><a class=\"jsx-4276038191\" href=\"https://collegedunia.com/usa/college/1090-harvard-university-cambridge/programs?course_id=181896\" target=\"_blank\">M.S Data Science</a></td><td class=\"jsx-4276038191\"><div class=\"jsx-4276038191 mb-1\"><span class=\"jsx-4276038191 text-capitalize\"> <!-- -->Financial Aid Application Deadline For Summer<!-- --> </span> (1st Jun 2023) </div><div class=\"jsx-4276038191 mb-1\"><span class=\"jsx-4276038191 text-capitalize\"> <!-- -->Financial Aid Application Deadline For Spring<!-- --> </span> (1st Mar 2023) </div><div class=\"jsx-4276038191 mb-1\"><span class=\"jsx-4276038191 text-capitalize\"> <!-- -->Financial Aid Application Deadline For Fall<!-- --> </span> (1st Nov 2022) </div><div class=\"jsx-4276038191 mb-1\"><span class=\"jsx-4276038191 text-capitalize\"> <!-- -->Application Deadline For Summer 2023 Intake<!-- --> </span> (1st Aug 2023) </div><div class=\"jsx-4276038191 mb-1\"><span class=\"jsx-4276038191 text-capitalize\"> <!-- -->Application Deadline For Spring 2023 Intake<!-- --> </span> (15th Apr 2023) </div><div class=\"jsx-4276038191 mb-1\"><span class=\"jsx-4276038191 text-capitalize\"> <!-- -->Application Deadline For Fall 2023<!-- --> </span> (1st Dec 2022) </div></td><td class=\"jsx-4276038191\">₹50.1 L/Yr<div class=\"jsx-4276038191 text-secondary text-sm mt-1 text-silver\">$61,570 /Yr</div></td></tr><tr class=\"jsx-4276038191\"><td class=\"jsx-4276038191\"><a class=\"jsx-4276038191\" href=\"https://collegedunia.com/usa/college/1090-harvard-university-cambridge/programs?course_id=182084\" target=\"_blank\">M.B.A Entrepreneurship</a></td><td class=\"jsx-4276038191\"><div class=\"jsx-4276038191 mb-1\"><span class=\"jsx-4276038191 text-capitalize\"> <!-- -->Financial Aid Application Deadline For Summer<!-- --> </span> (1st Jun 2023) </div><div class=\"jsx-4276038191 mb-1\"><span class=\"jsx-4276038191 text-capitalize\"> <!-- -->Financial Aid Application Deadline For Spring<!-- --> </span> (1st Mar 2023) </div><div class=\"jsx-4276038191 mb-1\"><span class=\"jsx-4276038191 text-capitalize\"> <!-- -->Financial Aid Application Deadline For Fall<!-- --> </span> (1st Nov 2022) </div><div class=\"jsx-4276038191 mb-1\"><span class=\"jsx-4276038191 text-capitalize\"> <!-- -->Application Deadline For Summer 2023 Intake<!-- --> </span> (1st Aug 2023) </div><div class=\"jsx-4276038191 mb-1\"><span class=\"jsx-4276038191 text-capitalize\"> <!-- -->Application Deadline For Spring 2023 Intake<!-- --> </span> (15th Apr 2023) </div><div class=\"jsx-4276038191 mb-1\"><span class=\"jsx-4276038191 text-capitalize\"> <!-- -->Application Deadline For Fall 2023<!-- --> </span> (1st Dec 2022) </div></td><td class=\"jsx-4276038191\">₹50.1 L/Yr<div class=\"jsx-4276038191 text-secondary text-sm mt-1 text-silver\">$61,570 /Yr</div></td></tr><tr class=\"jsx-4276038191\"><td class=\"jsx-4276038191\"><a class=\"jsx-4276038191\" href=\"https://collegedunia.com/usa/college/1090-harvard-university-cambridge/programs?course_id=215204\" target=\"_blank\">M.B.A Finance</a></td><td class=\"jsx-4276038191\"><div class=\"jsx-4276038191 mb-1\"><span class=\"jsx-4276038191 text-capitalize\"> <!-- -->Financial Aid Application Deadline For Summer<!-- --> </span> (1st Jun 2023) </div><div class=\"jsx-4276038191 mb-1\"><span class=\"jsx-4276038191 text-capitalize\"> <!-- -->Financial Aid Application Deadline For Spring<!-- --> </span> (1st Mar 2023) </div><div class=\"jsx-4276038191 mb-1\"><span class=\"jsx-4276038191 text-capitalize\"> <!-- -->Financial Aid Application Deadline For Fall<!-- --> </span> (1st Nov 2022) </div><div class=\"jsx-4276038191 mb-1\"><span class=\"jsx-4276038191 text-capitalize\"> <!-- -->Application Deadline For Summer 2023 Intake<!-- --> </span> (1st Aug 2023) </div><div class=\"jsx-4276038191 mb-1\"><span class=\"jsx-4276038191 text-capitalize\"> <!-- -->Application Deadline For Spring 2023 Intake<!-- --> </span> (15th Apr 2023) </div><div class=\"jsx-4276038191 mb-1\"><span class=\"jsx-4276038191 text-capitalize\"> <!-- -->Application Deadline For Fall 2023<!-- --> </span> (1st Dec 2022) </div></td><td class=\"jsx-4276038191\">₹50.1 L/Yr<div class=\"jsx-4276038191 text-secondary text-sm mt-1 text-silver\">$61,570 /Yr</div></td></tr><tr class=\"jsx-4276038191\"><td class=\"jsx-4276038191\"><a class=\"jsx-4276038191\" href=\"https://collegedunia.com/usa/college/1090-harvard-university-cambridge/programs?course_id=181898\" target=\"_blank\">M.Eng Computational Science and Engineering</a></td><td class=\"jsx-4276038191\"><div class=\"jsx-4276038191 mb-1\"><span class=\"jsx-4276038191 text-capitalize\"> <!-- -->Financial Aid Application Deadline For Summer<!-- --> </span> (1st Jun 2023) </div><div class=\"jsx-4276038191 mb-1\"><span class=\"jsx-4276038191 text-capitalize\"> <!-- -->Financial Aid Application Deadline For Spring<!-- --> </span> (1st Mar 2023) </div><div class=\"jsx-4276038191 mb-1\"><span class=\"jsx-4276038191 text-capitalize\"> <!-- -->Financial Aid Application Deadline For Fall<!-- --> </span> (1st Nov 2022) </div><div class=\"jsx-4276038191 mb-1\"><span class=\"jsx-4276038191 text-capitalize\"> <!-- -->Application Deadline For Summer 2023 Intake<!-- --> </span> (1st Aug 2023) </div><div class=\"jsx-4276038191 mb-1\"><span class=\"jsx-4276038191 text-capitalize\"> <!-- -->Application Deadline For Spring 2023 Intake<!-- --> </span> (15th Apr 2023) </div><div class=\"jsx-4276038191 mb-1\"><span class=\"jsx-4276038191 text-capitalize\"> <!-- -->Application Deadline For Fall 2023<!-- --> </span> (1st Dec 2022) </div></td><td class=\"jsx-4276038191\">₹50.1 L/Yr<div class=\"jsx-4276038191 text-secondary text-sm mt-1 text-silver\">$61,570 /Yr</div></td></tr><tr class=\"jsx-4276038191\"><td class=\"jsx-4276038191\"><a class=\"jsx-4276038191\" href=\"https://collegedunia.com/usa/college/1090-harvard-university-cambridge/programs?course_id=179911\" target=\"_blank\">M.S Liberal Arts - Software Engineering</a></td><td class=\"jsx-4276038191\"><div class=\"jsx-4276038191 mb-1\"><span class=\"jsx-4276038191 text-capitalize\"> <!-- -->Financial Aid Application Deadline For Summer<!-- --> </span> (1st Jun 2023) </div><div class=\"jsx-4276038191 mb-1\"><span class=\"jsx-4276038191 text-capitalize\"> <!-- -->Financial Aid Application Deadline For Spring<!-- --> </span> (1st Mar 2023) </div><div class=\"jsx-4276038191 mb-1\"><span class=\"jsx-4276038191 text-capitalize\"> <!-- -->Financial Aid Application Deadline For Fall<!-- --> </span> (1st Nov 2022) </div><div class=\"jsx-4276038191 mb-1\"><span class=\"jsx-4276038191 text-capitalize\"> <!-- -->Application Deadline For Summer 2023 Intake<!-- --> </span> (1st Aug 2023) </div><div class=\"jsx-4276038191 mb-1\"><span class=\"jsx-4276038191 text-capitalize\"> <!-- -->Application Deadline For Spring 2023 Intake<!-- --> </span> (15th Apr 2023) </div><div class=\"jsx-4276038191 mb-1\"><span class=\"jsx-4276038191 text-capitalize\"> <!-- -->Application Deadline For Fall 2023<!-- --> </span> (1st Dec 2022) </div></td><td class=\"jsx-4276038191\">₹50.1 L/Yr<div class=\"jsx-4276038191 text-secondary text-sm mt-1 text-silver\">$61,570 /Yr</div></td></tr></tbody></table>"
      ]
     },
     "execution_count": 89,
     "metadata": {},
     "output_type": "execute_result"
    }
   ],
   "source": [
    "table"
   ]
  },
  {
   "cell_type": "code",
   "execution_count": 90,
   "id": "16909a7d",
   "metadata": {},
   "outputs": [],
   "source": [
    "df=pd.DataFrame(columns=['Program','Application','Fees'])"
   ]
  },
  {
   "cell_type": "code",
   "execution_count": 91,
   "id": "c4adf689",
   "metadata": {},
   "outputs": [
    {
     "name": "stderr",
     "output_type": "stream",
     "text": [
      "C:\\Users\\lenovo\\AppData\\Local\\Temp\\ipykernel_8204\\3425898592.py:7: FutureWarning: The frame.append method is deprecated and will be removed from pandas in a future version. Use pandas.concat instead.\n",
      "  df=df.append({'Program':program,'Application':application,'Fees':Fees},ignore_index=True)\n",
      "C:\\Users\\lenovo\\AppData\\Local\\Temp\\ipykernel_8204\\3425898592.py:7: FutureWarning: The frame.append method is deprecated and will be removed from pandas in a future version. Use pandas.concat instead.\n",
      "  df=df.append({'Program':program,'Application':application,'Fees':Fees},ignore_index=True)\n",
      "C:\\Users\\lenovo\\AppData\\Local\\Temp\\ipykernel_8204\\3425898592.py:7: FutureWarning: The frame.append method is deprecated and will be removed from pandas in a future version. Use pandas.concat instead.\n",
      "  df=df.append({'Program':program,'Application':application,'Fees':Fees},ignore_index=True)\n",
      "C:\\Users\\lenovo\\AppData\\Local\\Temp\\ipykernel_8204\\3425898592.py:7: FutureWarning: The frame.append method is deprecated and will be removed from pandas in a future version. Use pandas.concat instead.\n",
      "  df=df.append({'Program':program,'Application':application,'Fees':Fees},ignore_index=True)\n",
      "C:\\Users\\lenovo\\AppData\\Local\\Temp\\ipykernel_8204\\3425898592.py:7: FutureWarning: The frame.append method is deprecated and will be removed from pandas in a future version. Use pandas.concat instead.\n",
      "  df=df.append({'Program':program,'Application':application,'Fees':Fees},ignore_index=True)\n",
      "C:\\Users\\lenovo\\AppData\\Local\\Temp\\ipykernel_8204\\3425898592.py:7: FutureWarning: The frame.append method is deprecated and will be removed from pandas in a future version. Use pandas.concat instead.\n",
      "  df=df.append({'Program':program,'Application':application,'Fees':Fees},ignore_index=True)\n"
     ]
    }
   ],
   "source": [
    "for row in table.tbody.find_all('tr'):\n",
    "    columns=row.find_all('td')\n",
    "    if columns!=[]:\n",
    "        program=columns[0].text.strip()\n",
    "        application=columns[1].text.strip()\n",
    "        Fees=columns[2].text.strip()\n",
    "        df=df.append({'Program':program,'Application':application,'Fees':Fees},ignore_index=True)"
   ]
  },
  {
   "cell_type": "code",
   "execution_count": 92,
   "id": "9212902a",
   "metadata": {},
   "outputs": [
    {
     "data": {
      "text/html": [
       "<div>\n",
       "<style scoped>\n",
       "    .dataframe tbody tr th:only-of-type {\n",
       "        vertical-align: middle;\n",
       "    }\n",
       "\n",
       "    .dataframe tbody tr th {\n",
       "        vertical-align: top;\n",
       "    }\n",
       "\n",
       "    .dataframe thead th {\n",
       "        text-align: right;\n",
       "    }\n",
       "</style>\n",
       "<table border=\"1\" class=\"dataframe\">\n",
       "  <thead>\n",
       "    <tr style=\"text-align: right;\">\n",
       "      <th></th>\n",
       "      <th>Program</th>\n",
       "      <th>Application</th>\n",
       "      <th>Fees</th>\n",
       "    </tr>\n",
       "  </thead>\n",
       "  <tbody>\n",
       "    <tr>\n",
       "      <th>0</th>\n",
       "      <td>M.B.A</td>\n",
       "      <td>Financial Aid Application Deadline For Summer ...</td>\n",
       "      <td>₹66.2 L/Yr$81,374 /Yr</td>\n",
       "    </tr>\n",
       "    <tr>\n",
       "      <th>1</th>\n",
       "      <td>M.S Data Science</td>\n",
       "      <td>Financial Aid Application Deadline For Summer ...</td>\n",
       "      <td>₹50.1 L/Yr$61,570 /Yr</td>\n",
       "    </tr>\n",
       "    <tr>\n",
       "      <th>2</th>\n",
       "      <td>M.B.A Entrepreneurship</td>\n",
       "      <td>Financial Aid Application Deadline For Summer ...</td>\n",
       "      <td>₹50.1 L/Yr$61,570 /Yr</td>\n",
       "    </tr>\n",
       "    <tr>\n",
       "      <th>3</th>\n",
       "      <td>M.B.A Finance</td>\n",
       "      <td>Financial Aid Application Deadline For Summer ...</td>\n",
       "      <td>₹50.1 L/Yr$61,570 /Yr</td>\n",
       "    </tr>\n",
       "    <tr>\n",
       "      <th>4</th>\n",
       "      <td>M.Eng Computational Science and Engineering</td>\n",
       "      <td>Financial Aid Application Deadline For Summer ...</td>\n",
       "      <td>₹50.1 L/Yr$61,570 /Yr</td>\n",
       "    </tr>\n",
       "    <tr>\n",
       "      <th>5</th>\n",
       "      <td>M.S Liberal Arts - Software Engineering</td>\n",
       "      <td>Financial Aid Application Deadline For Summer ...</td>\n",
       "      <td>₹50.1 L/Yr$61,570 /Yr</td>\n",
       "    </tr>\n",
       "  </tbody>\n",
       "</table>\n",
       "</div>"
      ],
      "text/plain": [
       "                                       Program  \\\n",
       "0                                        M.B.A   \n",
       "1                             M.S Data Science   \n",
       "2                       M.B.A Entrepreneurship   \n",
       "3                                M.B.A Finance   \n",
       "4  M.Eng Computational Science and Engineering   \n",
       "5      M.S Liberal Arts - Software Engineering   \n",
       "\n",
       "                                         Application                   Fees  \n",
       "0  Financial Aid Application Deadline For Summer ...  ₹66.2 L/Yr$81,374 /Yr  \n",
       "1  Financial Aid Application Deadline For Summer ...  ₹50.1 L/Yr$61,570 /Yr  \n",
       "2  Financial Aid Application Deadline For Summer ...  ₹50.1 L/Yr$61,570 /Yr  \n",
       "3  Financial Aid Application Deadline For Summer ...  ₹50.1 L/Yr$61,570 /Yr  \n",
       "4  Financial Aid Application Deadline For Summer ...  ₹50.1 L/Yr$61,570 /Yr  \n",
       "5  Financial Aid Application Deadline For Summer ...  ₹50.1 L/Yr$61,570 /Yr  "
      ]
     },
     "execution_count": 92,
     "metadata": {},
     "output_type": "execute_result"
    }
   ],
   "source": [
    "df"
   ]
  },
  {
   "cell_type": "code",
   "execution_count": 93,
   "id": "730fb89b",
   "metadata": {},
   "outputs": [],
   "source": [
    "json1=df.to_json()   # json1 to save the Programs Data"
   ]
  },
  {
   "cell_type": "code",
   "execution_count": 94,
   "id": "55d159b9",
   "metadata": {},
   "outputs": [
    {
     "data": {
      "text/plain": [
       "'{\"Program\":{\"0\":\"M.B.A\",\"1\":\"M.S Data Science\",\"2\":\"M.B.A Entrepreneurship\",\"3\":\"M.B.A Finance\",\"4\":\"M.Eng Computational Science and Engineering\",\"5\":\"M.S Liberal Arts - Software Engineering\"},\"Application\":{\"0\":\"Financial Aid Application Deadline For Summer  (1st Jun 2023)  Financial Aid Application Deadline For Spring  (1st Mar 2023)  Financial Aid Application Deadline For Fall  (1st Nov 2022)  Application Deadline For Summer 2023 Intake  (1st Aug 2023)  Application Deadline For Spring 2023 Intake  (15th Apr 2023)  Application Deadline For Fall 2023  (1st Dec 2022)\",\"1\":\"Financial Aid Application Deadline For Summer  (1st Jun 2023)  Financial Aid Application Deadline For Spring  (1st Mar 2023)  Financial Aid Application Deadline For Fall  (1st Nov 2022)  Application Deadline For Summer 2023 Intake  (1st Aug 2023)  Application Deadline For Spring 2023 Intake  (15th Apr 2023)  Application Deadline For Fall 2023  (1st Dec 2022)\",\"2\":\"Financial Aid Application Deadline For Summer  (1st Jun 2023)  Financial Aid Application Deadline For Spring  (1st Mar 2023)  Financial Aid Application Deadline For Fall  (1st Nov 2022)  Application Deadline For Summer 2023 Intake  (1st Aug 2023)  Application Deadline For Spring 2023 Intake  (15th Apr 2023)  Application Deadline For Fall 2023  (1st Dec 2022)\",\"3\":\"Financial Aid Application Deadline For Summer  (1st Jun 2023)  Financial Aid Application Deadline For Spring  (1st Mar 2023)  Financial Aid Application Deadline For Fall  (1st Nov 2022)  Application Deadline For Summer 2023 Intake  (1st Aug 2023)  Application Deadline For Spring 2023 Intake  (15th Apr 2023)  Application Deadline For Fall 2023  (1st Dec 2022)\",\"4\":\"Financial Aid Application Deadline For Summer  (1st Jun 2023)  Financial Aid Application Deadline For Spring  (1st Mar 2023)  Financial Aid Application Deadline For Fall  (1st Nov 2022)  Application Deadline For Summer 2023 Intake  (1st Aug 2023)  Application Deadline For Spring 2023 Intake  (15th Apr 2023)  Application Deadline For Fall 2023  (1st Dec 2022)\",\"5\":\"Financial Aid Application Deadline For Summer  (1st Jun 2023)  Financial Aid Application Deadline For Spring  (1st Mar 2023)  Financial Aid Application Deadline For Fall  (1st Nov 2022)  Application Deadline For Summer 2023 Intake  (1st Aug 2023)  Application Deadline For Spring 2023 Intake  (15th Apr 2023)  Application Deadline For Fall 2023  (1st Dec 2022)\"},\"Fees\":{\"0\":\"\\\\u20b966.2 L\\\\/Yr$81,374 \\\\/Yr\",\"1\":\"\\\\u20b950.1 L\\\\/Yr$61,570 \\\\/Yr\",\"2\":\"\\\\u20b950.1 L\\\\/Yr$61,570 \\\\/Yr\",\"3\":\"\\\\u20b950.1 L\\\\/Yr$61,570 \\\\/Yr\",\"4\":\"\\\\u20b950.1 L\\\\/Yr$61,570 \\\\/Yr\",\"5\":\"\\\\u20b950.1 L\\\\/Yr$61,570 \\\\/Yr\"}}'"
      ]
     },
     "execution_count": 94,
     "metadata": {},
     "output_type": "execute_result"
    }
   ],
   "source": [
    "json1"
   ]
  },
  {
   "cell_type": "code",
   "execution_count": 95,
   "id": "0dff99df",
   "metadata": {
    "scrolled": false
   },
   "outputs": [],
   "source": [
    "#class=\"jsx-3847118977 jsx-2133140133 cards-container\"\n",
    "mtch=soup.find_all(class_=\"jsx-3847118977 jsx-2133140133 cards-container\")\n"
   ]
  },
  {
   "cell_type": "markdown",
   "id": "809acc75",
   "metadata": {},
   "source": [
    "### Scraping Part 2: Courses Details from Classes"
   ]
  },
  {
   "cell_type": "code",
   "execution_count": 96,
   "id": "ec7ae585",
   "metadata": {},
   "outputs": [],
   "source": [
    "df1=pd.DataFrame(columns=['Course','Duration','Fees','other info'])"
   ]
  },
  {
   "cell_type": "code",
   "execution_count": 97,
   "id": "c16f0269",
   "metadata": {},
   "outputs": [
    {
     "name": "stdout",
     "output_type": "stream",
     "text": [
      " On Campus  English  Full Time\n",
      " Co Op, On Campus  English  Full Time\n",
      " On Campus  English  Full Time\n",
      " On Campus  English  Full Time\n",
      " On Campus  English  Full Time\n",
      " On Campus  English  Full Time\n"
     ]
    },
    {
     "name": "stderr",
     "output_type": "stream",
     "text": [
      "C:\\Users\\lenovo\\AppData\\Local\\Temp\\ipykernel_8204\\1220274331.py:18: FutureWarning: The frame.append method is deprecated and will be removed from pandas in a future version. Use pandas.concat instead.\n",
      "  df1=df1.append({'Course':course,'Duration':duration,'Fees':fees,'other info':other},ignore_index=True)\n",
      "C:\\Users\\lenovo\\AppData\\Local\\Temp\\ipykernel_8204\\1220274331.py:18: FutureWarning: The frame.append method is deprecated and will be removed from pandas in a future version. Use pandas.concat instead.\n",
      "  df1=df1.append({'Course':course,'Duration':duration,'Fees':fees,'other info':other},ignore_index=True)\n",
      "C:\\Users\\lenovo\\AppData\\Local\\Temp\\ipykernel_8204\\1220274331.py:18: FutureWarning: The frame.append method is deprecated and will be removed from pandas in a future version. Use pandas.concat instead.\n",
      "  df1=df1.append({'Course':course,'Duration':duration,'Fees':fees,'other info':other},ignore_index=True)\n",
      "C:\\Users\\lenovo\\AppData\\Local\\Temp\\ipykernel_8204\\1220274331.py:18: FutureWarning: The frame.append method is deprecated and will be removed from pandas in a future version. Use pandas.concat instead.\n",
      "  df1=df1.append({'Course':course,'Duration':duration,'Fees':fees,'other info':other},ignore_index=True)\n",
      "C:\\Users\\lenovo\\AppData\\Local\\Temp\\ipykernel_8204\\1220274331.py:18: FutureWarning: The frame.append method is deprecated and will be removed from pandas in a future version. Use pandas.concat instead.\n",
      "  df1=df1.append({'Course':course,'Duration':duration,'Fees':fees,'other info':other},ignore_index=True)\n",
      "C:\\Users\\lenovo\\AppData\\Local\\Temp\\ipykernel_8204\\1220274331.py:18: FutureWarning: The frame.append method is deprecated and will be removed from pandas in a future version. Use pandas.concat instead.\n",
      "  df1=df1.append({'Course':course,'Duration':duration,'Fees':fees,'other info':other},ignore_index=True)\n"
     ]
    }
   ],
   "source": [
    "for rows in soup.find_all(class_='jsx-3847118977 jsx-2133140133 card-head d-flex justify-content-between px-3 pt-3'):\n",
    "    col1=rows.find('p')\n",
    "    col=rows.find_all('span')\n",
    "    col3=''\n",
    "    course=col1.text\n",
    "    other=[]\n",
    "    for cols in col:\n",
    "        cols.find(class_='jsx-3847118977 jsx-2133140133 fees font-weight-bolder')\n",
    "        x=re.search(\"^INR.\",cols.text)\n",
    "        if x:\n",
    "            col3=cols.text\n",
    "        else:\n",
    "            other.append(cols.text)\n",
    "    duration=col3\n",
    "    fees=rows.find('span').text\n",
    "    other=' '.join(other[1:])\n",
    "    print(other)\n",
    "    df1=df1.append({'Course':course,'Duration':duration,'Fees':fees,'other info':other},ignore_index=True)\n",
    "    \n",
    "        "
   ]
  },
  {
   "cell_type": "code",
   "execution_count": 98,
   "id": "58711a74",
   "metadata": {},
   "outputs": [
    {
     "data": {
      "text/html": [
       "<div>\n",
       "<style scoped>\n",
       "    .dataframe tbody tr th:only-of-type {\n",
       "        vertical-align: middle;\n",
       "    }\n",
       "\n",
       "    .dataframe tbody tr th {\n",
       "        vertical-align: top;\n",
       "    }\n",
       "\n",
       "    .dataframe thead th {\n",
       "        text-align: right;\n",
       "    }\n",
       "</style>\n",
       "<table border=\"1\" class=\"dataframe\">\n",
       "  <thead>\n",
       "    <tr style=\"text-align: right;\">\n",
       "      <th></th>\n",
       "      <th>Course</th>\n",
       "      <th>Duration</th>\n",
       "      <th>Fees</th>\n",
       "      <th>other info</th>\n",
       "    </tr>\n",
       "  </thead>\n",
       "  <tbody>\n",
       "    <tr>\n",
       "      <th>0</th>\n",
       "      <td>M.B.A</td>\n",
       "      <td>INR 50.1 - 66.2 L/Yr</td>\n",
       "      <td>(2 year)</td>\n",
       "      <td>On Campus  English  Full Time</td>\n",
       "    </tr>\n",
       "    <tr>\n",
       "      <th>1</th>\n",
       "      <td>M.S</td>\n",
       "      <td>INR 18.5 - 50.1 L/Yr</td>\n",
       "      <td>(1 year - 2 year)</td>\n",
       "      <td>Co Op, On Campus  English  Full Time</td>\n",
       "    </tr>\n",
       "    <tr>\n",
       "      <th>2</th>\n",
       "      <td>M.D</td>\n",
       "      <td>INR 49.4 L/Yr</td>\n",
       "      <td>(5 year)</td>\n",
       "      <td>On Campus  English  Full Time</td>\n",
       "    </tr>\n",
       "    <tr>\n",
       "      <th>3</th>\n",
       "      <td>L.L.M</td>\n",
       "      <td>INR 50.1 L/Yr</td>\n",
       "      <td>(1 year)</td>\n",
       "      <td>On Campus  English  Full Time</td>\n",
       "    </tr>\n",
       "    <tr>\n",
       "      <th>4</th>\n",
       "      <td>Ph.D Computer Science</td>\n",
       "      <td>INR 25 L/Yr</td>\n",
       "      <td>(5 year)</td>\n",
       "      <td>On Campus  English  Full Time</td>\n",
       "    </tr>\n",
       "    <tr>\n",
       "      <th>5</th>\n",
       "      <td>B.A/B.Sc</td>\n",
       "      <td>INR 49.4 L/Yr</td>\n",
       "      <td>(4 year)</td>\n",
       "      <td>On Campus  English  Full Time</td>\n",
       "    </tr>\n",
       "  </tbody>\n",
       "</table>\n",
       "</div>"
      ],
      "text/plain": [
       "                  Course              Duration               Fees  \\\n",
       "0                  M.B.A  INR 50.1 - 66.2 L/Yr           (2 year)   \n",
       "1                    M.S  INR 18.5 - 50.1 L/Yr  (1 year - 2 year)   \n",
       "2                    M.D         INR 49.4 L/Yr           (5 year)   \n",
       "3                  L.L.M         INR 50.1 L/Yr           (1 year)   \n",
       "4  Ph.D Computer Science           INR 25 L/Yr           (5 year)   \n",
       "5               B.A/B.Sc         INR 49.4 L/Yr           (4 year)   \n",
       "\n",
       "                              other info  \n",
       "0          On Campus  English  Full Time  \n",
       "1   Co Op, On Campus  English  Full Time  \n",
       "2          On Campus  English  Full Time  \n",
       "3          On Campus  English  Full Time  \n",
       "4          On Campus  English  Full Time  \n",
       "5          On Campus  English  Full Time  "
      ]
     },
     "execution_count": 98,
     "metadata": {},
     "output_type": "execute_result"
    }
   ],
   "source": [
    "df1"
   ]
  },
  {
   "cell_type": "code",
   "execution_count": 109,
   "id": "be1dd469",
   "metadata": {},
   "outputs": [],
   "source": [
    "json2=df1.to_json()  ##json2 to save part2 Details"
   ]
  },
  {
   "cell_type": "markdown",
   "id": "79890efb",
   "metadata": {},
   "source": [
    "### Saving Result into Json File"
   ]
  },
  {
   "cell_type": "code",
   "execution_count": 110,
   "id": "1a9e8852",
   "metadata": {},
   "outputs": [],
   "source": [
    "with open(\"sample1.json\",\"w\") as outfile:\n",
    "    outfile.write(json1)"
   ]
  },
  {
   "cell_type": "code",
   "execution_count": 111,
   "id": "c115e339",
   "metadata": {},
   "outputs": [],
   "source": [
    "with open(\"sample2.json\",\"w\") as outfile:\n",
    "    outfile.write(json2)"
   ]
  },
  {
   "cell_type": "code",
   "execution_count": 112,
   "id": "07624acf",
   "metadata": {},
   "outputs": [
    {
     "name": "stdout",
     "output_type": "stream",
     "text": [
      "{\n",
      " \"Program\": {\n",
      "  \"0\": \"M.B.A\",\n",
      "  \"1\": \"M.S Data Science\",\n",
      "  \"2\": \"M.B.A Entrepreneurship\",\n",
      "  \"3\": \"M.B.A Finance\",\n",
      "  \"4\": \"M.Eng Computational Science and Engineering\",\n",
      "  \"5\": \"M.S Liberal Arts - Software Engineering\"\n",
      " },\n",
      " \"Application\": {\n",
      "  \"0\": \"Financial Aid Application Deadline For Summer  (1st Jun 2023)  Financial Aid Application Deadline For Spring  (1st Mar 2023)  Financial Aid Application Deadline For Fall  (1st Nov 2022)  Application Deadline For Summer 2023 Intake  (1st Aug 2023)  Application Deadline For Spring 2023 Intake  (15th Apr 2023)  Application Deadline For Fall 2023  (1st Dec 2022)\",\n",
      "  \"1\": \"Financial Aid Application Deadline For Summer  (1st Jun 2023)  Financial Aid Application Deadline For Spring  (1st Mar 2023)  Financial Aid Application Deadline For Fall  (1st Nov 2022)  Application Deadline For Summer 2023 Intake  (1st Aug 2023)  Application Deadline For Spring 2023 Intake  (15th Apr 2023)  Application Deadline For Fall 2023  (1st Dec 2022)\",\n",
      "  \"2\": \"Financial Aid Application Deadline For Summer  (1st Jun 2023)  Financial Aid Application Deadline For Spring  (1st Mar 2023)  Financial Aid Application Deadline For Fall  (1st Nov 2022)  Application Deadline For Summer 2023 Intake  (1st Aug 2023)  Application Deadline For Spring 2023 Intake  (15th Apr 2023)  Application Deadline For Fall 2023  (1st Dec 2022)\",\n",
      "  \"3\": \"Financial Aid Application Deadline For Summer  (1st Jun 2023)  Financial Aid Application Deadline For Spring  (1st Mar 2023)  Financial Aid Application Deadline For Fall  (1st Nov 2022)  Application Deadline For Summer 2023 Intake  (1st Aug 2023)  Application Deadline For Spring 2023 Intake  (15th Apr 2023)  Application Deadline For Fall 2023  (1st Dec 2022)\",\n",
      "  \"4\": \"Financial Aid Application Deadline For Summer  (1st Jun 2023)  Financial Aid Application Deadline For Spring  (1st Mar 2023)  Financial Aid Application Deadline For Fall  (1st Nov 2022)  Application Deadline For Summer 2023 Intake  (1st Aug 2023)  Application Deadline For Spring 2023 Intake  (15th Apr 2023)  Application Deadline For Fall 2023  (1st Dec 2022)\",\n",
      "  \"5\": \"Financial Aid Application Deadline For Summer  (1st Jun 2023)  Financial Aid Application Deadline For Spring  (1st Mar 2023)  Financial Aid Application Deadline For Fall  (1st Nov 2022)  Application Deadline For Summer 2023 Intake  (1st Aug 2023)  Application Deadline For Spring 2023 Intake  (15th Apr 2023)  Application Deadline For Fall 2023  (1st Dec 2022)\"\n",
      " },\n",
      " \"Fees\": {\n",
      "  \"0\": \"\\u20b966.2 L/Yr$81,374 /Yr\",\n",
      "  \"1\": \"\\u20b950.1 L/Yr$61,570 /Yr\",\n",
      "  \"2\": \"\\u20b950.1 L/Yr$61,570 /Yr\",\n",
      "  \"3\": \"\\u20b950.1 L/Yr$61,570 /Yr\",\n",
      "  \"4\": \"\\u20b950.1 L/Yr$61,570 /Yr\",\n",
      "  \"5\": \"\\u20b950.1 L/Yr$61,570 /Yr\"\n",
      " }\n",
      "}\n"
     ]
    }
   ],
   "source": [
    "with open('sample1.json','r') as openfile:\n",
    "    json_obj=json.load(openfile)\n",
    "print(json.dumps(json_obj, indent = 1))"
   ]
  },
  {
   "cell_type": "code",
   "execution_count": 113,
   "id": "8dd4f693",
   "metadata": {},
   "outputs": [
    {
     "name": "stdout",
     "output_type": "stream",
     "text": [
      "{\n",
      "    \"Course\": {\n",
      "        \"0\": \"M.B.A\",\n",
      "        \"1\": \"M.S\",\n",
      "        \"2\": \"M.D\",\n",
      "        \"3\": \"L.L.M\",\n",
      "        \"4\": \"Ph.D Computer Science\",\n",
      "        \"5\": \"B.A/B.Sc\"\n",
      "    },\n",
      "    \"Duration\": {\n",
      "        \"0\": \"INR 50.1 - 66.2 L/Yr\",\n",
      "        \"1\": \"INR 18.5 - 50.1 L/Yr\",\n",
      "        \"2\": \"INR 49.4 L/Yr\",\n",
      "        \"3\": \"INR 50.1 L/Yr\",\n",
      "        \"4\": \"INR 25 L/Yr\",\n",
      "        \"5\": \"INR 49.4 L/Yr\"\n",
      "    },\n",
      "    \"Fees\": {\n",
      "        \"0\": \"(2 year)\",\n",
      "        \"1\": \"(1 year - 2 year)\",\n",
      "        \"2\": \"(5 year)\",\n",
      "        \"3\": \"(1 year)\",\n",
      "        \"4\": \"(5 year)\",\n",
      "        \"5\": \"(4 year)\"\n",
      "    },\n",
      "    \"other info\": {\n",
      "        \"0\": \" On Campus  English  Full Time\",\n",
      "        \"1\": \" Co Op, On Campus  English  Full Time\",\n",
      "        \"2\": \" On Campus  English  Full Time\",\n",
      "        \"3\": \" On Campus  English  Full Time\",\n",
      "        \"4\": \" On Campus  English  Full Time\",\n",
      "        \"5\": \" On Campus  English  Full Time\"\n",
      "    }\n",
      "}\n"
     ]
    }
   ],
   "source": [
    "with open('sample2.json','r') as openfile:\n",
    "    json_obj1=json.load(openfile)\n",
    "print(json.dumps(json_obj1, indent = 4))"
   ]
  },
  {
   "cell_type": "code",
   "execution_count": null,
   "id": "7df71f5f",
   "metadata": {},
   "outputs": [],
   "source": [
    "\n"
   ]
  },
  {
   "cell_type": "code",
   "execution_count": null,
   "id": "02ac465e",
   "metadata": {},
   "outputs": [],
   "source": []
  }
 ],
 "metadata": {
  "kernelspec": {
   "display_name": "Python 3 (ipykernel)",
   "language": "python",
   "name": "python3"
  },
  "language_info": {
   "codemirror_mode": {
    "name": "ipython",
    "version": 3
   },
   "file_extension": ".py",
   "mimetype": "text/x-python",
   "name": "python",
   "nbconvert_exporter": "python",
   "pygments_lexer": "ipython3",
   "version": "3.9.13"
  },
  "vscode": {
   "interpreter": {
    "hash": "a71a9e4fb054fff428071484f7faa898cb9ecb31a518fe88e3463da9af879578"
   }
  }
 },
 "nbformat": 4,
 "nbformat_minor": 5
}
